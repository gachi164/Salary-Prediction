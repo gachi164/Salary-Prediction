{
 "cells": [
  {
   "cell_type": "markdown",
   "metadata": {},
   "source": [
    "# Salary Prediction"
   ]
  },
  {
   "cell_type": "markdown",
   "metadata": {},
   "source": [
    "### OBJECTIVE:\n",
    "Predict salary based on job description."
   ]
  },
  {
   "cell_type": "markdown",
   "metadata": {},
   "source": [
    "### INTRODUCTION:\n",
    "The project created a salary prediction model based on a job description. It used several machine learning models, including Linear Regression, Ridge Regression, Random Forest, and Gradient Boosting to train the data set; thereafter, the best model was selected based on the minimum of mean square error (MSE).\n",
    "\n",
    "There are two Python files in this repository, including EDA_salary_prediction.ipynb and Salary Prediction Model_V0.1.ipynb.\n",
    "The first one explored the data. The second one trained the models and identified the best model. The predictive models were trained by using two data set \"Train features\" and \"Train salaries\"\n",
    "The testing data was used to predict the outcome based on the best model. \n",
    "\n",
    "\n",
    "\n",
    "Train features and Train salaries- This predictive model is trained using these 2 datasets consisting of 10 variables(including the target varibale) and 1 millon entries.\n",
    "Test features- This dataset is used for predicting the model which is built.\n",
    "\n",
    "The tools I used are Python and the libraries- numpy, pandas, matplotlib, seaborn and sklearn.\n",
    "\n",
    "The model benefits both employers and employees. For the employers, the model can give them the baseline salary of a certain position with years of experience, and qualifications. So they can pay their employees up to the market and they may make a competitive offer to talented people. For the employees, the model can benefit them in making a decision when they have a job offer as well as maximum their salary by updating their skills and knowledge."
   ]
  },
  {
   "cell_type": "markdown",
   "metadata": {},
   "source": [
    "# Contents\n",
    "### Define Problems\n",
    "    Requirements\n",
    "### Discover Data\n",
    "\n",
    "### Develop Solutions\n",
    "\n",
    "### Deploy Model"
   ]
  },
  {
   "cell_type": "markdown",
   "metadata": {},
   "source": [
    "### DEFINE PROBLEMS\n",
    "Requirements: Examining a set of job postings with salaries and then predict salaries for a new set of job postings."
   ]
  },
  {
   "cell_type": "markdown",
   "metadata": {},
   "source": [
    "### DISCOVER DATA\n",
    "#### Exploratory Data Analysis (EDA)\n",
    "The dataset contains both numeric and catergorical varibles.\n",
    "###### Numeric variables:\n",
    "    - yearsExperience: work experience in years\n",
    "    - milesFromMetropolis: The distance from company's location to the CBD.\n",
    "    - Salary: Target variable\n",
    "###### Categorical variables:\n",
    "    - jobType: Type of jobs, for example: CEO,CTO and manager.\n",
    "    - major: Specific concentration\n",
    "    - degree: Educational qualification. eg. High school, masters\n",
    "    - industry: The industry where the company is specilized in.\n",
    "###### Data Visualisation!"
   ]
  },
  {
   "cell_type": "markdown",
   "metadata": {},
   "source": [
    "The Figure below shows the distribution of the target variable:\n",
    "\n",
    "![](images/fig1_Salary%20distribution.png)"
   ]
  },
  {
   "cell_type": "markdown",
   "metadata": {},
   "source": [
    "###### Correlation matrix\n",
    "Positive relationship: \n",
    "![](images/fig2_sal_YearsE.png)\n",
    "Negative relationship:\n",
    "![](images/fig3_Sal_miles.png)"
   ]
  },
  {
   "cell_type": "code",
   "execution_count": null,
   "metadata": {},
   "outputs": [],
   "source": []
  }
 ],
 "metadata": {
  "kernelspec": {
   "display_name": "Python 3",
   "language": "python",
   "name": "python3"
  },
  "language_info": {
   "codemirror_mode": {
    "name": "ipython",
    "version": 3
   },
   "file_extension": ".py",
   "mimetype": "text/x-python",
   "name": "python",
   "nbconvert_exporter": "python",
   "pygments_lexer": "ipython3",
   "version": "3.8.5"
  }
 },
 "nbformat": 4,
 "nbformat_minor": 4
}
